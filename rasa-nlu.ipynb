{
 "cells": [
  {
   "cell_type": "code",
   "execution_count": 7,
   "metadata": {},
   "outputs": [],
   "source": [
    "from rasa_nlu.training_data import load_data \n",
    "from rasa_nlu.model import Trainer \n",
    "from rasa_nlu import config \n",
    "from rasa_nlu.model import Interpreter"
   ]
  },
  {
   "cell_type": "code",
   "execution_count": 11,
   "metadata": {},
   "outputs": [],
   "source": [
    "def train_horoscopebot(data_json, config_file, model_dir):\n",
    "    training_data = load_data(data_json)\n",
    "    trainer = Trainer(config.load(config_file))\n",
    "    trainer.train(training_data)\n",
    "    model_directory = trainer.persist(model_dir, fixed_model_name = 'horoscopebot')"
   ]
  },
  {
   "cell_type": "code",
   "execution_count": 9,
   "metadata": {},
   "outputs": [
    {
     "name": "stderr",
     "output_type": "stream",
     "text": [
      "/Users/purushothamreddy/Dev/python/chatbot/venv/lib/python3.6/site-packages/rasa_nlu/training_data/training_data.py:187: UserWarning: Intent 'greeting' has only 1 training examples! Minimum is 2, training may fail.\n",
      "  self.MIN_EXAMPLES_PER_INTENT))\n",
      "/Users/purushothamreddy/Dev/python/chatbot/venv/lib/python3.6/site-packages/rasa_nlu/training_data/training_data.py:187: UserWarning: Intent 'subscribe' has only 1 training examples! Minimum is 2, training may fail.\n",
      "  self.MIN_EXAMPLES_PER_INTENT))\n",
      "/Users/purushothamreddy/Dev/python/chatbot/venv/lib/python3.6/site-packages/rasa_nlu/training_data/training_data.py:187: UserWarning: Intent 'dob_intent' has only 1 training examples! Minimum is 2, training may fail.\n",
      "  self.MIN_EXAMPLES_PER_INTENT))\n",
      "/Users/purushothamreddy/Dev/python/chatbot/venv/lib/python3.6/site-packages/rasa_nlu/training_data/training_data.py:195: UserWarning: Entity 'DD' has only 1 training examples! minimum is 2, training may fail.\n",
      "  self.MIN_EXAMPLES_PER_ENTITY))\n",
      "/Users/purushothamreddy/Dev/python/chatbot/venv/lib/python3.6/site-packages/rasa_nlu/training_data/training_data.py:195: UserWarning: Entity 'mm' has only 1 training examples! minimum is 2, training may fail.\n",
      "  self.MIN_EXAMPLES_PER_ENTITY))\n",
      "Epochs: 100%|██████████| 300/300 [00:01<00:00, 202.36it/s, loss=0.096, acc=1.000]\n"
     ]
    }
   ],
   "source": [
    "\n",
    "\n",
    "def predict_intent(text):\n",
    "    interpreter = Interpreter.load('./models/nlu/default/horoscopebot')\n",
    "    print(interpreter.parse(text))\n",
    "    \n",
    "\n",
    "train_horoscopebot('./data/data.json', 'config.json', './models/nlu')"
   ]
  },
  {
   "cell_type": "code",
   "execution_count": 12,
   "metadata": {},
   "outputs": [
    {
     "name": "stdout",
     "output_type": "stream",
     "text": [
      "INFO:tensorflow:Restoring parameters from ./models/nlu/default/horoscopebot/intent_classifier_tensorflow_embedding.ckpt\n",
      "{'intent': {'name': 'get_horoscope', 'confidence': 0.9681528210639954}, 'entities': [], 'intent_ranking': [{'name': 'get_horoscope', 'confidence': 0.9681528210639954}, {'name': 'greeting', 'confidence': 0.08297410607337952}, {'name': 'dob_intent', 'confidence': 0.0}, {'name': 'subscribe', 'confidence': 0.0}], 'text': 'Can you tell something about my horoscopr today'}\n"
     ]
    }
   ],
   "source": [
    "predict_intent(\"Can you tell something about my horoscopr today\")"
   ]
  },
  {
   "cell_type": "code",
   "execution_count": null,
   "metadata": {},
   "outputs": [],
   "source": []
  }
 ],
 "metadata": {
  "kernelspec": {
   "display_name": "Python 3",
   "language": "python",
   "name": "python3"
  },
  "language_info": {
   "codemirror_mode": {
    "name": "ipython",
    "version": 3
   },
   "file_extension": ".py",
   "mimetype": "text/x-python",
   "name": "python",
   "nbconvert_exporter": "python",
   "pygments_lexer": "ipython3",
   "version": "3.6.0"
  }
 },
 "nbformat": 4,
 "nbformat_minor": 2
}
